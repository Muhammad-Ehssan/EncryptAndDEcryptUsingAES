{
  "nbformat": 4,
  "nbformat_minor": 0,
  "metadata": {
    "colab": {
      "provenance": []
    },
    "kernelspec": {
      "name": "python3",
      "display_name": "Python 3"
    },
    "language_info": {
      "name": "python"
    }
  },
  "cells": [
    {
      "cell_type": "code",
      "execution_count": 7,
      "metadata": {
        "colab": {
          "base_uri": "https://localhost:8080/"
        },
        "id": "W4_ByVP4QpU1",
        "outputId": "da682632-2280-41c5-b321-1c254f17916e"
      },
      "outputs": [
        {
          "output_type": "stream",
          "name": "stdout",
          "text": [
            "4E202EBD7DFC5817712417BFB109406E\n"
          ]
        }
      ],
      "source": [
        "byte_array = [52, 69, 50, 48, 50, 69, 66, 68, 55, 68, 70, 67, 53, 56, 49, 55, 55, 49, 50, 52, 49, 55, 66, 70, 66, 49, 48, 57, 52, 48, 54, 69]\n",
        "string = \"\".join([chr(byte) for byte in byte_array])\n",
        "print(string)\n"
      ]
    },
    {
      "cell_type": "markdown",
      "source": [
        "**Encryption**"
      ],
      "metadata": {
        "id": "uHseJmWPGEyV"
      }
    },
    {
      "cell_type": "code",
      "source": [
        "from cryptography.hazmat.primitives import padding\n",
        "from cryptography.hazmat.primitives.ciphers import Cipher, algorithms, modes\n",
        "from cryptography.hazmat.backends import default_backend\n",
        "\n",
        "# Your own AES key (must be 32 bytes for AES-256)\n",
        "your_aes_key = b'4E202EBD7DFC5817712417BFB109406E'\n",
        "\n",
        "# The string you want to encrypt\n",
        "original_string = \"4553218929305507\"\n",
        "\n",
        "# Encode the string to bytes\n",
        "message = original_string.encode('utf-8')\n",
        "\n",
        "# Generate a random 16-byte IV (Initialization Vector)\n",
        "iv = your_aes_key[8:24]\n",
        "\n",
        "# Create a PKCS7 padding object\n",
        "padder = padding.PKCS7(128).padder()\n",
        "\n",
        "# Add padding to the message\n",
        "padded_message = padder.update(message) + padder.finalize()\n",
        "\n",
        "# Create an AES cipher context in CBC mode\n",
        "cipher = Cipher(algorithms.AES(your_aes_key), modes.CBC(iv), backend=default_backend())\n",
        "encryptor = cipher.encryptor()\n",
        "\n",
        "# Encrypt the padded message\n",
        "ciphertext = encryptor.update(padded_message) + encryptor.finalize()\n",
        "\n",
        "# Display the results\n",
        "print(\"Original String:\", original_string)\n",
        "print(\"Encrypted Message:\", ciphertext.hex())\n"
      ],
      "metadata": {
        "colab": {
          "base_uri": "https://localhost:8080/"
        },
        "id": "mP7Iq-nxQ-bz",
        "outputId": "1153de41-893e-4011-c9cb-17b26823aa08"
      },
      "execution_count": 1,
      "outputs": [
        {
          "output_type": "stream",
          "name": "stdout",
          "text": [
            "Original String: 4553218929305507\n",
            "Encrypted Message: 9fc3c75737a38fe292f5e718ac238b03db9ba55688909afe25b01f9537d8583a\n"
          ]
        }
      ]
    },
    {
      "cell_type": "markdown",
      "source": [
        "**Decryption**"
      ],
      "metadata": {
        "id": "4XWgdSasGIDb"
      }
    },
    {
      "cell_type": "code",
      "source": [
        "from cryptography.hazmat.primitives.ciphers import Cipher, algorithms, modes\n",
        "from cryptography.hazmat.backends import default_backend\n",
        "from cryptography.hazmat.primitives import padding\n",
        "\n",
        "# Your own AES key (must be 32 bytes for AES-256)\n",
        "your_aes_key = b'4E202EBD7DFC5817712417BFB109406E'\n",
        "\n",
        "# The ciphertext to decrypt\n",
        "ciphertext = bytes.fromhex(\"9fc3c75737a38fe292f5e718ac238b03db9ba55688909afe25b01f9537d8583a\")\n",
        "\n",
        "# The IV used for encryption (must be the same as the one used for encryption)\n",
        "iv = your_aes_key[8:24]\n",
        "\n",
        "\n",
        "# Create an AES cipher context in CBC mode\n",
        "cipher = Cipher(algorithms.AES(your_aes_key), modes.CBC(iv), backend=default_backend())\n",
        "decryptor = cipher.decryptor()\n",
        "\n",
        "# Decrypt the ciphertext\n",
        "decrypted_padded_message = decryptor.update(ciphertext) + decryptor.finalize()\n",
        "\n",
        "# Create a PKCS7 padding object\n",
        "unpadder = padding.PKCS7(128).unpadder()\n",
        "\n",
        "# Remove the padding\n",
        "decrypted_message = unpadder.update(decrypted_padded_message) + unpadder.finalize()\n",
        "\n",
        "# Convert the decrypted bytes back to a string\n",
        "decrypted_string = decrypted_message.decode('utf-8')\n",
        "\n",
        "# Display the decrypted message\n",
        "print(\"Decrypted Message:\", decrypted_string)\n"
      ],
      "metadata": {
        "colab": {
          "base_uri": "https://localhost:8080/"
        },
        "id": "divKhROzTZP3",
        "outputId": "200d9661-8adc-4a7c-e89f-cc8ab4303322"
      },
      "execution_count": 3,
      "outputs": [
        {
          "output_type": "stream",
          "name": "stdout",
          "text": [
            "Decrypted Message: 4553218929305507\n"
          ]
        }
      ]
    }
  ]
}